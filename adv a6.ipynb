{
 "cells": [
  {
   "cell_type": "code",
   "execution_count": 1,
   "id": "b8caf1b6",
   "metadata": {},
   "outputs": [],
   "source": [
    "# Q1. Describe three applications for exception processing.\n",
    "\n",
    "# An exception can be defined as an unusual condition in a program resulting in the interruption in the flow of the program."
   ]
  },
  {
   "cell_type": "code",
   "execution_count": 2,
   "id": "48985da4",
   "metadata": {},
   "outputs": [],
   "source": [
    "# Q2. What happens if you done do something extra to treat an exception?\n",
    "\n",
    "# When an exception occurred, if you don't handle it, the program terminates abruptly and the code past the line that caused the exception will not get executed."
   ]
  },
  {
   "cell_type": "code",
   "execution_count": 3,
   "id": "bd0d47a7",
   "metadata": {},
   "outputs": [],
   "source": [
    "# Q3. What are your options for recovering from an exception in your script?\n",
    "\n",
    "# If you have some suspicious code that may raise an exception, you can defend your program by placing the suspicious code in a try: block. After the try: block, include an except: statement, followed by a block of code which handles the problem as elegantly as possible."
   ]
  },
  {
   "cell_type": "code",
   "execution_count": 4,
   "id": "769b1706",
   "metadata": {},
   "outputs": [],
   "source": [
    "# Q4. Describe two methods for triggering exceptions in your script.\n",
    "\n",
    "# In this tutorial, you'll learn how to handle exceptions in your Python program using try, except and finally statements with the help of examples.\n"
   ]
  },
  {
   "cell_type": "code",
   "execution_count": null,
   "id": "f7a6bd32",
   "metadata": {},
   "outputs": [],
   "source": []
  }
 ],
 "metadata": {
  "kernelspec": {
   "display_name": "Python 3 (ipykernel)",
   "language": "python",
   "name": "python3"
  },
  "language_info": {
   "codemirror_mode": {
    "name": "ipython",
    "version": 3
   },
   "file_extension": ".py",
   "mimetype": "text/x-python",
   "name": "python",
   "nbconvert_exporter": "python",
   "pygments_lexer": "ipython3",
   "version": "3.9.7"
  }
 },
 "nbformat": 4,
 "nbformat_minor": 5
}
